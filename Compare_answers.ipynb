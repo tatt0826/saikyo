{
 "cells": [
  {
   "cell_type": "code",
   "execution_count": 94,
   "metadata": {
    "collapsed": true
   },
   "outputs": [],
   "source": [
    "import SaikyoABC as sk\n",
    "import math\n",
    "from PIL import Image, ImageDraw, ImageFont"
   ]
  },
  {
   "cell_type": "code",
   "execution_count": 178,
   "metadata": {
    "collapsed": true
   },
   "outputs": [],
   "source": [
    "class Compare_answers(object):\n",
    "    u\"\"\"SaikyoABCで作られたペンストロークのブロックをその特徴量を用いて答案間で比較し、クラスタリングするためのクラスです。\n",
    "    出力は\n",
    "    self.compared_ans:\n",
    "    [[[変数名1,blocknum],[変数名2,blocknum],....],[[],[],...],....]\n",
    "    self.compared_ans[cmp_block_num]で、特徴量の比較からans_block_num番目のクラスタに含められた各、ストロークのブロックの\n",
    "    もともとsaikyoABC(filename)で割り当てられた変数名とその中におけるそのブロックの番号block_numのリストの群を取り出せます。\n",
    "    \n",
    "    SaikyoABC(filename)で以降,主に用いるであろうものとしては\n",
    "    - filename : 読み込んだファイルの名前を返します。\n",
    "    - blocks[block_num] : 各ブロックに含まれるストロークの番号をリストに格納した配列です。\n",
    "    - block_range[block_num][Xmin_or_max][Ymin_or_max] : 各ブロックの領域の配列です。\n",
    "    - block_center[block_num][XorY] : ブロックの中心の座標が得られます。\n",
    "    - block_average_length[block_num] : ブロック内のストロークの平均の長さを得られます。\n",
    "    - stroke_or_string : そのブロックが補助線なら０計算式なら１になっています。\n",
    "    - true_or_false : その答案が正解しているなら２、部分点なら１、間違いなら０。\n",
    "    - block_polygon : 各ブロックの各点がストローク毎に分けられず全て[x,y]の形でまとめられたものです。ConvexHullで用いられる形です。\n",
    "    \n",
    "    \n",
    "    Compare_answersのインスタンスの変数とメソッドは\n",
    "    - cmp_ans : [[[変数名1,blocknum],[変数名2,blocknum],....],[[],[],...],....]の形になっています。\n",
    "                self.compared_ans[cmp_block_num]\n",
    "                で、cmp_block_num番目のクラスタに含められた\n",
    "                各ストロークのブロックの,もともとsaikyoABC(filename)で割り当てられた変数名と\n",
    "                その中におけるそのブロックの番号(block_num)のリスト\n",
    "                の群を取り出せます。\n",
    "    - features : ans_block_numに対応する番号の各特徴量のリストです。\n",
    "                 features[cmp_block_num][fea_num]\n",
    "                 で、ans_block_numに分類されているブロック群の各特徴量の内、fea_num番目に割り当てられたものを得られます。\n",
    "                 この特徴量と比較することで、compared_ansを生成します。この時にfeaturesも更新されます。        \n",
    "    - check_new_ans(SaikyoABCのインスタンスの名前) : 新たな答案データの特徴量を比較し、compared_ansとfeaturesを更新します。\n",
    "    \"\"\"\n",
    "    \n",
    "    def __init__(self,ans):\n",
    "        ans.stroke_classifier()\n",
    "        #print('filename:{0} is readed'.format(ans.filename))\n",
    "        self.cmp_ans = [[[ans,block_num]]\n",
    "                             for block_num in range(len(ans.blocks))]\n",
    "        self.features = [[ans.block_center[block_num]]\n",
    "                                  for block_num in range(len(ans.blocks))]\n",
    "        block_of_ans_num = range(len(ans.blocks))\n",
    "        imagename = ans.filename.replace('csv','gif')\n",
    "        imagename = imagename.replace('strokes','image')\n",
    "        image = Image.open(imagename)\n",
    "        overlayimage = ans.overlay_image(image)\n",
    "        overlayimage2 = overlay_cmp_ans_image(ans,overlayimage,block_of_ans_num)\n",
    "        overlayimage2.show()\n",
    "        file_num = ans.filename.replace('.csv','')\n",
    "        file_num = file_num.replace('test/strokes','')\n",
    "        overlayimage2.save('edited_img' + file_num +'.jpg')\n",
    "        \n",
    "    \n",
    "    def check_new_ans(self,ans):\n",
    "        u\"\"\"新しい回答データを加えて現在のブロックと比較します。\n",
    "        ans = SaikyoABC(filename)\n",
    "        の形のものです。\n",
    "        \"\"\"\n",
    "        X = 0\n",
    "        Y = 1\n",
    "        ans.stroke_classifier()\n",
    "        block_of_ans_num = [0] * len(ans.blocks)\n",
    "        u\"\"\"各ブロックがcheck_new_ans実行後のcmp_ansのどの要素に分類されるかを記録します。\n",
    "        イメージを表示するためにのみ用います。\"\"\"\n",
    "        print('filename:{0} is readed'.format(ans.filename))\n",
    "        \n",
    "        added_block = []\n",
    "        u\"\"\"既に対応づけが終わったblock_num\"\"\"\n",
    "        added_cmp_ans = []\n",
    "        u\"\"\"既に対応づけが終わったcmp_ans_num\"\"\"\n",
    "        added_block_num = 0\n",
    "        added_cmp_ans_num = 0\n",
    "        while(len(added_block) != len(ans.blocks) and len(added_cmp_ans) != len(self.cmp_ans)):\n",
    "            distance = 10000\n",
    "            \"\"\"self.featuresの各要素に対し、ブロックの特徴量を用いた計算結果の内最小のもの\"\"\"\n",
    "            threshhold = 250\n",
    "            u\"\"\"分類時に用いる閾値\"\"\"\n",
    "            for cmp_ans_num in range(len(self.cmp_ans)):\n",
    "                if cmp_ans_num not in added_cmp_ans:\n",
    "                    w1 = 1\n",
    "                    for block_num in range(len(ans.blocks)):\n",
    "                        if block_num not in added_block:\n",
    "                            new_distance = math.sqrt((self.features[cmp_ans_num][0][X] - ans.block_center[block_num][X])**2\n",
    "                                                     +(self.features[cmp_ans_num][0][Y] - ans.block_center[block_num][Y])**2)\n",
    "                            u\"\"\"何らかのdistanceを返す計算をします。\n",
    "                            用いる特徴量が決定していないので適宜調整の必要あり\n",
    "                            \"\"\"\n",
    "                            if distance > new_distance :\n",
    "                                distance = new_distance\n",
    "                                added_block_num = block_num\n",
    "                                added_cmp_ans_num = cmp_ans_num\n",
    "                else:\n",
    "                    continue\n",
    "            \"\"\"\n",
    "            print('distance-----------------------')\n",
    "            print(distance)\n",
    "            print('--------------------------------')\n",
    "            \"\"\"\n",
    "            if distance < threshhold:\n",
    "                block_of_ans_num[added_block_num] = added_cmp_ans_num\n",
    "                self.cmp_ans[added_cmp_ans_num].append([ans,added_block_num])\n",
    "                added_block.append(added_block_num)\n",
    "                added_cmp_ans.append(added_cmp_ans_num)\n",
    "                #ここで特徴量の更新も必要\n",
    "            else:\n",
    "                print(distance)\n",
    "                break\n",
    "                \n",
    "            \n",
    "        #どのクラスタにも含めるべきでないと判断されたストロークのブロックを末尾に加える処理を行います。\n",
    "        for block_num in range(len(ans.blocks)):\n",
    "            if block_num not in added_block:\n",
    "                block_of_ans_num[block_num] = len(self.cmp_ans)\n",
    "                self.cmp_ans.append([[ans,block_num]])\n",
    "                self.features.append([ans.block_center[block_num]]) \n",
    "                \n",
    " \n",
    "                \n",
    "                \n",
    "        #=============比較後の答案を表示==================================\n",
    "        u\"\"\"確認用で研究には関係ありません。\n",
    "        edited'No'.jpgという名前のファイルを作成します。\"\"\"\n",
    "        imagename = ans.filename.replace('csv','gif')\n",
    "        imagename = imagename.replace('strokes','image')\n",
    "        image = Image.open(imagename)\n",
    "        overlayimage = ans.overlay_image(image)\n",
    "        overlayimage2 = overlay_cmp_ans_image(ans,overlayimage,block_of_ans_num)\n",
    "        overlayimage2.show()\n",
    "        file_num = ans.filename.replace('.csv','')\n",
    "        file_num = file_num.replace('test/strokes','')\n",
    "        overlayimage2.save('edited_img' + file_num +'.jpg')\n",
    "        #==============================================================\n",
    "    \n",
    "    def get_prior_block(self):\n",
    "        u\"\"\"その問題を解く上で重要であると思われるブロックを抽出します。\n",
    "        \"\"\"\n",
    "        for self.cmp_ans in \n",
    "        self.prior_block\n",
    "    \n",
    "    \n",
    "    def assign_priority(self):\n",
    "        u\"\"\"各ブロックに対して重要度を与えます。\n",
    "        self.ans_priority\n",
    "        に格納されています。\n",
    "        \"\"\"\n",
    "        self.num_of_true = [[[],[]],...]\n",
    "        for cmp_ans_num in self.cmp_ans :\n",
    "            \n",
    "    \n",
    "    \n",
    "#======================比較した答案を可視化するための関数群========================================\n",
    "    \n",
    "def draw_cmp_ans_image(ans,block_of_ans_num,image_size=None):\n",
    "    u\"\"\"ブロックのまとまりを画像として出力する。\n",
    "    -----\n",
    "    input\n",
    "       - image_size: 画像サイズ。(幅,高さ)で指定してください。※numpyの行列とは順番が逆なので注意！！\n",
    "    \"\"\"\n",
    "    if image_size is None:\n",
    "          image_size = np.max(np.array([np.max(s,axis=1) for s in ans.stroke.STROKE]),axis=0)\n",
    "    image = Image.new(\"RGBA\",image_size,color=(255,255,255,0))\n",
    "    __draw_cmp_ans_image(ans,image,block_of_ans_num)\n",
    "    return image\n",
    "    \n",
    "    \n",
    "def overlay_cmp_ans_image(ans,originalimage,block_of_ans_num):\n",
    "    u\"\"\"元の画像にオーバーレイする形で描画する\"\"\"\n",
    "        \n",
    "    background = originalimage.copy()\n",
    "    background = background.convert(\"RGBA\")\n",
    "    foreground = draw_cmp_ans_image(ans,block_of_ans_num,background.size)\n",
    "    background.paste(foreground,(0,0),foreground)\n",
    "    return background\n",
    "    \n",
    "\n",
    "        \n",
    "def __draw_cmp_ans_image(ans,image,block_of_ans_num):\n",
    "    u\"\"\"\n",
    "    ブロックのスケールを画像にプロットします\n",
    "    \"\"\"\n",
    "    draw = ImageDraw.Draw(image)\n",
    "    X = 0\n",
    "    Y = 1\n",
    "    xmin = 0\n",
    "    xmax = 1\n",
    "    ymin = 2\n",
    "    ymax = 3\n",
    "    font = ImageFont.truetype(\"arial.ttf\", 32)\n",
    "    #_font = ImageFont.truetype(size = 15)\n",
    "    for block_num in range(len(ans.block_range)):\n",
    "        X_xmin = ans.block_range[block_num][X][xmin]\n",
    "        Y_ymax = ans.block_range[block_num][Y][ymax]\n",
    "        X_xmax = ans.block_range[block_num][X][xmax]\n",
    "        Y_ymin = ans.block_range[block_num][Y][ymin]\n",
    "        c = block_of_ans_num[block_num]\n",
    "        if c <= 17:\n",
    "            draw.rectangle(((X_xmin,Y_ymax),(X_xmax,Y_ymin)),fill=(15*c,255,255-15*c,10),outline=(0,0,0))\n",
    "        elif c >= 18 and c <= 34:\n",
    "            c = c - 17\n",
    "            draw.rectangle(((X_xmin,Y_ymax),(X_xmax,Y_ymin)),fill=(0,15*c,255-15*c,10),outline=(0,0,0))\n",
    "        else:\n",
    "            draw.rectangle(((X_xmin,Y_ymax),(X_xmax,Y_ymin)),fill=(255,255,255,10),outline=(0,0,0))\n",
    "        draw.text((X_xmin,Y_ymax), str(block_of_ans_num[block_num]) ,fill='#000',font = font)\n",
    "\n",
    "\n",
    "\n",
    "            \n",
    "\n",
    "        \n",
    "        "
   ]
  },
  {
   "cell_type": "code",
   "execution_count": 179,
   "metadata": {
    "collapsed": true
   },
   "outputs": [],
   "source": [
    "abc = sk.SaikyoABC(\"test/strokes8.csv\")\n",
    "ABC = Compare_answers(abc)\n",
    "#print(ABC.cmp_ans)"
   ]
  },
  {
   "cell_type": "code",
   "execution_count": 180,
   "metadata": {
    "scrolled": true
   },
   "outputs": [
    {
     "name": "stdout",
     "output_type": "stream",
     "text": [
      "filename:test/strokes6.csv is readed\n",
      "264.8678804262296\n"
     ]
    }
   ],
   "source": [
    "d = sk.SaikyoABC(\"test/strokes6.csv\")\n",
    "ABC.check_new_ans(d)\n",
    "#print(ABC.cmp_ans)"
   ]
  },
  {
   "cell_type": "code",
   "execution_count": 181,
   "metadata": {},
   "outputs": [
    {
     "name": "stdout",
     "output_type": "stream",
     "text": [
      "filename:test/strokes3.csv is readed\n"
     ]
    }
   ],
   "source": [
    "e = sk.SaikyoABC(\"test/strokes3.csv\")\n",
    "ABC.check_new_ans(e)\n",
    "#print(ABC.cmp_ans[2])"
   ]
  },
  {
   "cell_type": "code",
   "execution_count": 182,
   "metadata": {
    "scrolled": true
   },
   "outputs": [
    {
     "name": "stdout",
     "output_type": "stream",
     "text": [
      "filename:test/strokes10.csv is readed\n"
     ]
    }
   ],
   "source": [
    "f = sk.SaikyoABC(\"test/strokes10.csv\")\n",
    "ABC.check_new_ans(f)"
   ]
  },
  {
   "cell_type": "code",
   "execution_count": 183,
   "metadata": {},
   "outputs": [
    {
     "name": "stdout",
     "output_type": "stream",
     "text": [
      "filename:test/strokes11.csv is readed\n",
      "300.84164545078403\n"
     ]
    }
   ],
   "source": [
    "g = sk.SaikyoABC(\"test/strokes11.csv\")\n",
    "ABC.check_new_ans(g)"
   ]
  },
  {
   "cell_type": "code",
   "execution_count": 184,
   "metadata": {},
   "outputs": [
    {
     "name": "stdout",
     "output_type": "stream",
     "text": [
      "filename:test/strokes12.csv is readed\n"
     ]
    }
   ],
   "source": [
    "h = sk.SaikyoABC(\"test/strokes12.csv\")\n",
    "ABC.check_new_ans(h)"
   ]
  },
  {
   "cell_type": "code",
   "execution_count": 185,
   "metadata": {},
   "outputs": [
    {
     "name": "stdout",
     "output_type": "stream",
     "text": [
      "filename:test/strokes14.csv is readed\n",
      "268.8463287802085\n"
     ]
    }
   ],
   "source": [
    "i = sk.SaikyoABC(\"test/strokes14.csv\")\n",
    "ABC.check_new_ans(i)"
   ]
  },
  {
   "cell_type": "code",
   "execution_count": 186,
   "metadata": {},
   "outputs": [
    {
     "name": "stdout",
     "output_type": "stream",
     "text": [
      "filename:test/strokes7.csv is readed\n",
      "274.3514784876978\n"
     ]
    }
   ],
   "source": [
    "j = sk.SaikyoABC(\"test/strokes7.csv\")\n",
    "ABC.check_new_ans(j)"
   ]
  },
  {
   "cell_type": "code",
   "execution_count": 187,
   "metadata": {},
   "outputs": [
    {
     "name": "stdout",
     "output_type": "stream",
     "text": [
      "[[[<SaikyoABC.SaikyoABC object at 0x7fea63ff9d30>, 0], [<SaikyoABC.SaikyoABC object at 0x7fea63faaa58>, 1], [<SaikyoABC.SaikyoABC object at 0x7fea64019cc0>, 0]], [[<SaikyoABC.SaikyoABC object at 0x7fea63ff9d30>, 1], [<SaikyoABC.SaikyoABC object at 0x7fea64017a58>, 1], [<SaikyoABC.SaikyoABC object at 0x7fea64021e10>, 2], [<SaikyoABC.SaikyoABC object at 0x7fea64010710>, 0], [<SaikyoABC.SaikyoABC object at 0x7fea63faaa58>, 4], [<SaikyoABC.SaikyoABC object at 0x7fea63f7d080>, 2], [<SaikyoABC.SaikyoABC object at 0x7fea64019cc0>, 8], [<SaikyoABC.SaikyoABC object at 0x7fea63fb2278>, 8]], [[<SaikyoABC.SaikyoABC object at 0x7fea63ff9d30>, 2], [<SaikyoABC.SaikyoABC object at 0x7fea64017a58>, 2], [<SaikyoABC.SaikyoABC object at 0x7fea64021e10>, 3], [<SaikyoABC.SaikyoABC object at 0x7fea64010710>, 1], [<SaikyoABC.SaikyoABC object at 0x7fea63faaa58>, 5], [<SaikyoABC.SaikyoABC object at 0x7fea64019cc0>, 9], [<SaikyoABC.SaikyoABC object at 0x7fea63fb2278>, 9]], [[<SaikyoABC.SaikyoABC object at 0x7fea63ff9d30>, 3], [<SaikyoABC.SaikyoABC object at 0x7fea64021e10>, 0], [<SaikyoABC.SaikyoABC object at 0x7fea63faaa58>, 2], [<SaikyoABC.SaikyoABC object at 0x7fea63f7d080>, 0], [<SaikyoABC.SaikyoABC object at 0x7fea64019cc0>, 6], [<SaikyoABC.SaikyoABC object at 0x7fea63fb2278>, 23]], [[<SaikyoABC.SaikyoABC object at 0x7fea63ff9d30>, 4], [<SaikyoABC.SaikyoABC object at 0x7fea64021e10>, 1], [<SaikyoABC.SaikyoABC object at 0x7fea63faaa58>, 3], [<SaikyoABC.SaikyoABC object at 0x7fea63f7d080>, 1], [<SaikyoABC.SaikyoABC object at 0x7fea64019cc0>, 7], [<SaikyoABC.SaikyoABC object at 0x7fea63fb2278>, 24]], [[<SaikyoABC.SaikyoABC object at 0x7fea63ff9d30>, 5], [<SaikyoABC.SaikyoABC object at 0x7fea64017a58>, 3], [<SaikyoABC.SaikyoABC object at 0x7fea64021e10>, 4], [<SaikyoABC.SaikyoABC object at 0x7fea64010710>, 2], [<SaikyoABC.SaikyoABC object at 0x7fea63faaa58>, 7], [<SaikyoABC.SaikyoABC object at 0x7fea63f7d080>, 4], [<SaikyoABC.SaikyoABC object at 0x7fea64019cc0>, 11], [<SaikyoABC.SaikyoABC object at 0x7fea63fb2278>, 11]], [[<SaikyoABC.SaikyoABC object at 0x7fea63ff9d30>, 6], [<SaikyoABC.SaikyoABC object at 0x7fea64017a58>, 4], [<SaikyoABC.SaikyoABC object at 0x7fea64019cc0>, 12], [<SaikyoABC.SaikyoABC object at 0x7fea63fb2278>, 10]], [[<SaikyoABC.SaikyoABC object at 0x7fea63ff9d30>, 7], [<SaikyoABC.SaikyoABC object at 0x7fea64017a58>, 6], [<SaikyoABC.SaikyoABC object at 0x7fea64010710>, 3], [<SaikyoABC.SaikyoABC object at 0x7fea63faaa58>, 8], [<SaikyoABC.SaikyoABC object at 0x7fea63f7d080>, 7], [<SaikyoABC.SaikyoABC object at 0x7fea63fb2278>, 21]], [[<SaikyoABC.SaikyoABC object at 0x7fea63ff9d30>, 8], [<SaikyoABC.SaikyoABC object at 0x7fea64017a58>, 7], [<SaikyoABC.SaikyoABC object at 0x7fea64021e10>, 5], [<SaikyoABC.SaikyoABC object at 0x7fea63f7d080>, 5], [<SaikyoABC.SaikyoABC object at 0x7fea64019cc0>, 16], [<SaikyoABC.SaikyoABC object at 0x7fea63fb2278>, 17]], [[<SaikyoABC.SaikyoABC object at 0x7fea63ff9d30>, 9], [<SaikyoABC.SaikyoABC object at 0x7fea64017a58>, 9], [<SaikyoABC.SaikyoABC object at 0x7fea64010710>, 5], [<SaikyoABC.SaikyoABC object at 0x7fea63faaa58>, 12], [<SaikyoABC.SaikyoABC object at 0x7fea63f7d080>, 6], [<SaikyoABC.SaikyoABC object at 0x7fea64019cc0>, 10], [<SaikyoABC.SaikyoABC object at 0x7fea63fb2278>, 16]], [[<SaikyoABC.SaikyoABC object at 0x7fea63ff9d30>, 10]], [[<SaikyoABC.SaikyoABC object at 0x7fea63ff9d30>, 11]], [[<SaikyoABC.SaikyoABC object at 0x7fea63ff9d30>, 12], [<SaikyoABC.SaikyoABC object at 0x7fea63fb2278>, 13]], [[<SaikyoABC.SaikyoABC object at 0x7fea63ff9d30>, 13]], [[<SaikyoABC.SaikyoABC object at 0x7fea63ff9d30>, 14]], [[<SaikyoABC.SaikyoABC object at 0x7fea63ff9d30>, 15], [<SaikyoABC.SaikyoABC object at 0x7fea64017a58>, 10], [<SaikyoABC.SaikyoABC object at 0x7fea64010710>, 6], [<SaikyoABC.SaikyoABC object at 0x7fea63faaa58>, 10], [<SaikyoABC.SaikyoABC object at 0x7fea63f7d080>, 8], [<SaikyoABC.SaikyoABC object at 0x7fea64019cc0>, 18], [<SaikyoABC.SaikyoABC object at 0x7fea63fb2278>, 44]], [[<SaikyoABC.SaikyoABC object at 0x7fea63ff9d30>, 16], [<SaikyoABC.SaikyoABC object at 0x7fea64017a58>, 14], [<SaikyoABC.SaikyoABC object at 0x7fea64010710>, 8], [<SaikyoABC.SaikyoABC object at 0x7fea63faaa58>, 11], [<SaikyoABC.SaikyoABC object at 0x7fea64019cc0>, 22], [<SaikyoABC.SaikyoABC object at 0x7fea63fb2278>, 34]], [[<SaikyoABC.SaikyoABC object at 0x7fea63ff9d30>, 17], [<SaikyoABC.SaikyoABC object at 0x7fea64017a58>, 15], [<SaikyoABC.SaikyoABC object at 0x7fea64010710>, 9], [<SaikyoABC.SaikyoABC object at 0x7fea63faaa58>, 15], [<SaikyoABC.SaikyoABC object at 0x7fea63f7d080>, 10], [<SaikyoABC.SaikyoABC object at 0x7fea64019cc0>, 23], [<SaikyoABC.SaikyoABC object at 0x7fea63fb2278>, 35]], [[<SaikyoABC.SaikyoABC object at 0x7fea64017a58>, 0], [<SaikyoABC.SaikyoABC object at 0x7fea64019cc0>, 5]], [[<SaikyoABC.SaikyoABC object at 0x7fea64017a58>, 5], [<SaikyoABC.SaikyoABC object at 0x7fea64019cc0>, 14], [<SaikyoABC.SaikyoABC object at 0x7fea63fb2278>, 28]], [[<SaikyoABC.SaikyoABC object at 0x7fea64017a58>, 8], [<SaikyoABC.SaikyoABC object at 0x7fea64010710>, 4], [<SaikyoABC.SaikyoABC object at 0x7fea63faaa58>, 9], [<SaikyoABC.SaikyoABC object at 0x7fea63f7d080>, 11], [<SaikyoABC.SaikyoABC object at 0x7fea64019cc0>, 17], [<SaikyoABC.SaikyoABC object at 0x7fea63fb2278>, 32]], [[<SaikyoABC.SaikyoABC object at 0x7fea64017a58>, 11], [<SaikyoABC.SaikyoABC object at 0x7fea64010710>, 7], [<SaikyoABC.SaikyoABC object at 0x7fea63faaa58>, 14], [<SaikyoABC.SaikyoABC object at 0x7fea63f7d080>, 9], [<SaikyoABC.SaikyoABC object at 0x7fea64019cc0>, 13], [<SaikyoABC.SaikyoABC object at 0x7fea63fb2278>, 48]], [[<SaikyoABC.SaikyoABC object at 0x7fea64017a58>, 12], [<SaikyoABC.SaikyoABC object at 0x7fea64019cc0>, 20], [<SaikyoABC.SaikyoABC object at 0x7fea63fb2278>, 30]], [[<SaikyoABC.SaikyoABC object at 0x7fea64017a58>, 13], [<SaikyoABC.SaikyoABC object at 0x7fea64019cc0>, 15], [<SaikyoABC.SaikyoABC object at 0x7fea63fb2278>, 20]], [[<SaikyoABC.SaikyoABC object at 0x7fea64017a58>, 16], [<SaikyoABC.SaikyoABC object at 0x7fea63faaa58>, 16], [<SaikyoABC.SaikyoABC object at 0x7fea63f7d080>, 12], [<SaikyoABC.SaikyoABC object at 0x7fea64019cc0>, 25], [<SaikyoABC.SaikyoABC object at 0x7fea63fb2278>, 53]], [[<SaikyoABC.SaikyoABC object at 0x7fea64017a58>, 17], [<SaikyoABC.SaikyoABC object at 0x7fea64010710>, 10], [<SaikyoABC.SaikyoABC object at 0x7fea64019cc0>, 21]], [[<SaikyoABC.SaikyoABC object at 0x7fea64017a58>, 18], [<SaikyoABC.SaikyoABC object at 0x7fea64010710>, 11], [<SaikyoABC.SaikyoABC object at 0x7fea64019cc0>, 29], [<SaikyoABC.SaikyoABC object at 0x7fea63fb2278>, 55]], [[<SaikyoABC.SaikyoABC object at 0x7fea64017a58>, 19], [<SaikyoABC.SaikyoABC object at 0x7fea64010710>, 12], [<SaikyoABC.SaikyoABC object at 0x7fea63faaa58>, 18], [<SaikyoABC.SaikyoABC object at 0x7fea64019cc0>, 30], [<SaikyoABC.SaikyoABC object at 0x7fea63fb2278>, 58]], [[<SaikyoABC.SaikyoABC object at 0x7fea64017a58>, 20], [<SaikyoABC.SaikyoABC object at 0x7fea64010710>, 14], [<SaikyoABC.SaikyoABC object at 0x7fea63faaa58>, 19], [<SaikyoABC.SaikyoABC object at 0x7fea64019cc0>, 32], [<SaikyoABC.SaikyoABC object at 0x7fea63fb2278>, 57]], [[<SaikyoABC.SaikyoABC object at 0x7fea64017a58>, 21], [<SaikyoABC.SaikyoABC object at 0x7fea64019cc0>, 33], [<SaikyoABC.SaikyoABC object at 0x7fea63fb2278>, 61]], [[<SaikyoABC.SaikyoABC object at 0x7fea64017a58>, 22], [<SaikyoABC.SaikyoABC object at 0x7fea64019cc0>, 27]], [[<SaikyoABC.SaikyoABC object at 0x7fea64017a58>, 23]], [[<SaikyoABC.SaikyoABC object at 0x7fea64017a58>, 24], [<SaikyoABC.SaikyoABC object at 0x7fea64019cc0>, 34]], [[<SaikyoABC.SaikyoABC object at 0x7fea64017a58>, 25], [<SaikyoABC.SaikyoABC object at 0x7fea64010710>, 13], [<SaikyoABC.SaikyoABC object at 0x7fea64019cc0>, 36], [<SaikyoABC.SaikyoABC object at 0x7fea63fb2278>, 59]], [[<SaikyoABC.SaikyoABC object at 0x7fea64017a58>, 26], [<SaikyoABC.SaikyoABC object at 0x7fea64019cc0>, 37], [<SaikyoABC.SaikyoABC object at 0x7fea63fb2278>, 62]], [[<SaikyoABC.SaikyoABC object at 0x7fea64017a58>, 27], [<SaikyoABC.SaikyoABC object at 0x7fea64019cc0>, 38], [<SaikyoABC.SaikyoABC object at 0x7fea63fb2278>, 60]], [[<SaikyoABC.SaikyoABC object at 0x7fea64017a58>, 28], [<SaikyoABC.SaikyoABC object at 0x7fea64019cc0>, 44]], [[<SaikyoABC.SaikyoABC object at 0x7fea64017a58>, 29], [<SaikyoABC.SaikyoABC object at 0x7fea64019cc0>, 39]], [[<SaikyoABC.SaikyoABC object at 0x7fea64017a58>, 30]], [[<SaikyoABC.SaikyoABC object at 0x7fea64017a58>, 31]], [[<SaikyoABC.SaikyoABC object at 0x7fea64017a58>, 32], [<SaikyoABC.SaikyoABC object at 0x7fea64019cc0>, 40]], [[<SaikyoABC.SaikyoABC object at 0x7fea64017a58>, 33], [<SaikyoABC.SaikyoABC object at 0x7fea64019cc0>, 41]], [[<SaikyoABC.SaikyoABC object at 0x7fea64017a58>, 34], [<SaikyoABC.SaikyoABC object at 0x7fea64019cc0>, 42]], [[<SaikyoABC.SaikyoABC object at 0x7fea64017a58>, 35], [<SaikyoABC.SaikyoABC object at 0x7fea64019cc0>, 43]], [[<SaikyoABC.SaikyoABC object at 0x7fea63faaa58>, 0]], [[<SaikyoABC.SaikyoABC object at 0x7fea63faaa58>, 6], [<SaikyoABC.SaikyoABC object at 0x7fea63f7d080>, 3], [<SaikyoABC.SaikyoABC object at 0x7fea63fb2278>, 7]], [[<SaikyoABC.SaikyoABC object at 0x7fea63faaa58>, 13], [<SaikyoABC.SaikyoABC object at 0x7fea64019cc0>, 19], [<SaikyoABC.SaikyoABC object at 0x7fea63fb2278>, 39]], [[<SaikyoABC.SaikyoABC object at 0x7fea63faaa58>, 17], [<SaikyoABC.SaikyoABC object at 0x7fea64019cc0>, 26], [<SaikyoABC.SaikyoABC object at 0x7fea63fb2278>, 38]], [[<SaikyoABC.SaikyoABC object at 0x7fea64019cc0>, 1]], [[<SaikyoABC.SaikyoABC object at 0x7fea64019cc0>, 2]], [[<SaikyoABC.SaikyoABC object at 0x7fea64019cc0>, 3]], [[<SaikyoABC.SaikyoABC object at 0x7fea64019cc0>, 4]], [[<SaikyoABC.SaikyoABC object at 0x7fea64019cc0>, 24], [<SaikyoABC.SaikyoABC object at 0x7fea63fb2278>, 52]], [[<SaikyoABC.SaikyoABC object at 0x7fea64019cc0>, 28]], [[<SaikyoABC.SaikyoABC object at 0x7fea64019cc0>, 31], [<SaikyoABC.SaikyoABC object at 0x7fea63fb2278>, 56]], [[<SaikyoABC.SaikyoABC object at 0x7fea64019cc0>, 35]], [[<SaikyoABC.SaikyoABC object at 0x7fea64019cc0>, 45]], [[<SaikyoABC.SaikyoABC object at 0x7fea64019cc0>, 46]], [[<SaikyoABC.SaikyoABC object at 0x7fea64019cc0>, 47]], [[<SaikyoABC.SaikyoABC object at 0x7fea64019cc0>, 48]], [[<SaikyoABC.SaikyoABC object at 0x7fea64019cc0>, 49]], [[<SaikyoABC.SaikyoABC object at 0x7fea64019cc0>, 50]], [[<SaikyoABC.SaikyoABC object at 0x7fea64019cc0>, 51]], [[<SaikyoABC.SaikyoABC object at 0x7fea64019cc0>, 52]], [[<SaikyoABC.SaikyoABC object at 0x7fea64019cc0>, 53]], [[<SaikyoABC.SaikyoABC object at 0x7fea64019cc0>, 54]], [[<SaikyoABC.SaikyoABC object at 0x7fea64019cc0>, 55]], [[<SaikyoABC.SaikyoABC object at 0x7fea64019cc0>, 56]], [[<SaikyoABC.SaikyoABC object at 0x7fea64019cc0>, 57]], [[<SaikyoABC.SaikyoABC object at 0x7fea64019cc0>, 58]], [[<SaikyoABC.SaikyoABC object at 0x7fea64019cc0>, 59]], [[<SaikyoABC.SaikyoABC object at 0x7fea64019cc0>, 60]], [[<SaikyoABC.SaikyoABC object at 0x7fea63fb2278>, 0]], [[<SaikyoABC.SaikyoABC object at 0x7fea63fb2278>, 1]], [[<SaikyoABC.SaikyoABC object at 0x7fea63fb2278>, 2]], [[<SaikyoABC.SaikyoABC object at 0x7fea63fb2278>, 3]], [[<SaikyoABC.SaikyoABC object at 0x7fea63fb2278>, 4]], [[<SaikyoABC.SaikyoABC object at 0x7fea63fb2278>, 5]], [[<SaikyoABC.SaikyoABC object at 0x7fea63fb2278>, 6]], [[<SaikyoABC.SaikyoABC object at 0x7fea63fb2278>, 12]], [[<SaikyoABC.SaikyoABC object at 0x7fea63fb2278>, 14]], [[<SaikyoABC.SaikyoABC object at 0x7fea63fb2278>, 15]], [[<SaikyoABC.SaikyoABC object at 0x7fea63fb2278>, 18]], [[<SaikyoABC.SaikyoABC object at 0x7fea63fb2278>, 19]], [[<SaikyoABC.SaikyoABC object at 0x7fea63fb2278>, 22]], [[<SaikyoABC.SaikyoABC object at 0x7fea63fb2278>, 25]], [[<SaikyoABC.SaikyoABC object at 0x7fea63fb2278>, 26]], [[<SaikyoABC.SaikyoABC object at 0x7fea63fb2278>, 27]], [[<SaikyoABC.SaikyoABC object at 0x7fea63fb2278>, 29]], [[<SaikyoABC.SaikyoABC object at 0x7fea63fb2278>, 31]], [[<SaikyoABC.SaikyoABC object at 0x7fea63fb2278>, 33]], [[<SaikyoABC.SaikyoABC object at 0x7fea63fb2278>, 36]], [[<SaikyoABC.SaikyoABC object at 0x7fea63fb2278>, 37]], [[<SaikyoABC.SaikyoABC object at 0x7fea63fb2278>, 40]], [[<SaikyoABC.SaikyoABC object at 0x7fea63fb2278>, 41]], [[<SaikyoABC.SaikyoABC object at 0x7fea63fb2278>, 42]], [[<SaikyoABC.SaikyoABC object at 0x7fea63fb2278>, 43]], [[<SaikyoABC.SaikyoABC object at 0x7fea63fb2278>, 45]], [[<SaikyoABC.SaikyoABC object at 0x7fea63fb2278>, 46]], [[<SaikyoABC.SaikyoABC object at 0x7fea63fb2278>, 47]], [[<SaikyoABC.SaikyoABC object at 0x7fea63fb2278>, 49]], [[<SaikyoABC.SaikyoABC object at 0x7fea63fb2278>, 50]], [[<SaikyoABC.SaikyoABC object at 0x7fea63fb2278>, 51]], [[<SaikyoABC.SaikyoABC object at 0x7fea63fb2278>, 54]]]\n"
     ]
    }
   ],
   "source": [
    "k = sk.SaikyoABC(\"test/strokes1.csv\")\n",
    "ABC"
   ]
  },
  {
   "cell_type": "code",
   "execution_count": 192,
   "metadata": {},
   "outputs": [
    {
     "name": "stdout",
     "output_type": "stream",
     "text": [
      "test/strokes14.csv\n"
     ]
    }
   ],
   "source": [
    "print(ABC.cmp_ans[0][2][0].filename)"
   ]
  },
  {
   "cell_type": "code",
   "execution_count": null,
   "metadata": {
    "collapsed": true
   },
   "outputs": [],
   "source": []
  },
  {
   "cell_type": "code",
   "execution_count": null,
   "metadata": {
    "collapsed": true
   },
   "outputs": [],
   "source": []
  }
 ],
 "metadata": {
  "kernelspec": {
   "display_name": "Python 3",
   "language": "python",
   "name": "python3"
  },
  "language_info": {
   "codemirror_mode": {
    "name": "ipython",
    "version": 3
   },
   "file_extension": ".py",
   "mimetype": "text/x-python",
   "name": "python",
   "nbconvert_exporter": "python",
   "pygments_lexer": "ipython3",
   "version": "3.6.1"
  }
 },
 "nbformat": 4,
 "nbformat_minor": 2
}
